{
 "cells": [
  {
   "cell_type": "markdown",
   "metadata": {},
   "source": [
    "# Camera Simulator Tutorial"
   ]
  },
  {
   "cell_type": "markdown",
   "metadata": {},
   "source": [
    "First we need to import the camera_simulator package and numpy"
   ]
  },
  {
   "cell_type": "code",
   "execution_count": 35,
   "metadata": {},
   "outputs": [],
   "source": [
    "import camera_simulator\n",
    "from camera_simulator import lens, sensor\n",
    "import numpy as np"
   ]
  },
  {
   "cell_type": "markdown",
   "metadata": {},
   "source": [
    "We create a random image that is going to be studied and the sensor and lens objects"
   ]
  },
  {
   "cell_type": "code",
   "execution_count": 10,
   "metadata": {},
   "outputs": [],
   "source": [
    "np.random.seed(10) # We temporally select a seed to be consistent every time we run the code\n",
    "\n",
    "image = np.random.randint(10, size=(15,10)) # The image studied\n",
    "\n",
    "lens_height = 10 # Height of the lens\n",
    "lens_widht = 10 # Widht of the lens\n",
    "lens1 = lens.Lens(lens_height,lens_widht)\n",
    "\n",
    "sensor_gain = np.random.randint(10) # sensor gain \n",
    "sensor1 = sensor.Sensor(sensor_gain,image)"
   ]
  },
  {
   "cell_type": "markdown",
   "metadata": {},
   "source": [
    "The Lens object needs the height and widht dimensions to be created.\n",
    "The Sensor object need the gain of the sensor, the image that is studied and the maximum iterator in the case is not 10."
   ]
  },
  {
   "cell_type": "markdown",
   "metadata": {},
   "source": [
    "The method process in lens will check if the image dimensions are correct with respect to the lens ones. "
   ]
  },
  {
   "cell_type": "code",
   "execution_count": 12,
   "metadata": {},
   "outputs": [
    {
     "ename": "ValueError",
     "evalue": "The size of the image is different to the lens height and width.",
     "output_type": "error",
     "traceback": [
      "\u001b[0;31m---------------------------------------------------------------------------\u001b[0m",
      "\u001b[0;31mValueError\u001b[0m                                Traceback (most recent call last)",
      "\u001b[0;32m<ipython-input-12-9e4f0d77cb42>\u001b[0m in \u001b[0;36m<module>\u001b[0;34m\u001b[0m\n\u001b[0;32m----> 1\u001b[0;31m \u001b[0mlens1\u001b[0m\u001b[0;34m.\u001b[0m\u001b[0mprocess\u001b[0m\u001b[0;34m(\u001b[0m\u001b[0mimage\u001b[0m\u001b[0;34m)\u001b[0m\u001b[0;34m\u001b[0m\u001b[0;34m\u001b[0m\u001b[0m\n\u001b[0m",
      "\u001b[0;32m~/Documents/Camera_simulator/camera_simulator/lens.py\u001b[0m in \u001b[0;36mprocess\u001b[0;34m(self, image)\u001b[0m\n\u001b[1;32m     52\u001b[0m         \u001b[0msize\u001b[0m \u001b[0;34m=\u001b[0m \u001b[0mimage\u001b[0m\u001b[0;34m.\u001b[0m\u001b[0mshape\u001b[0m\u001b[0;34m\u001b[0m\u001b[0;34m\u001b[0m\u001b[0m\n\u001b[1;32m     53\u001b[0m         \u001b[0;32mif\u001b[0m \u001b[0mself\u001b[0m\u001b[0;34m.\u001b[0m\u001b[0mheight\u001b[0m \u001b[0;34m!=\u001b[0m \u001b[0msize\u001b[0m\u001b[0;34m[\u001b[0m\u001b[0;36m0\u001b[0m\u001b[0;34m]\u001b[0m \u001b[0;32mor\u001b[0m \u001b[0mself\u001b[0m\u001b[0;34m.\u001b[0m\u001b[0mwidth\u001b[0m \u001b[0;34m!=\u001b[0m \u001b[0msize\u001b[0m\u001b[0;34m[\u001b[0m\u001b[0;36m1\u001b[0m\u001b[0;34m]\u001b[0m\u001b[0;34m:\u001b[0m\u001b[0;34m\u001b[0m\u001b[0;34m\u001b[0m\u001b[0m\n\u001b[0;32m---> 54\u001b[0;31m             \u001b[0;32mraise\u001b[0m \u001b[0mValueError\u001b[0m\u001b[0;34m(\u001b[0m\u001b[0;34m\"The size of the image is different to the lens height and width.\"\u001b[0m\u001b[0;34m)\u001b[0m\u001b[0;34m\u001b[0m\u001b[0;34m\u001b[0m\u001b[0m\n\u001b[0m\u001b[1;32m     55\u001b[0m         \u001b[0;32mreturn\u001b[0m \u001b[0mimage\u001b[0m\u001b[0;34m\u001b[0m\u001b[0;34m\u001b[0m\u001b[0m\n\u001b[1;32m     56\u001b[0m \u001b[0;34m\u001b[0m\u001b[0m\n",
      "\u001b[0;31mValueError\u001b[0m: The size of the image is different to the lens height and width."
     ]
    }
   ],
   "source": [
    "lens1.process(image)"
   ]
  },
  {
   "cell_type": "markdown",
   "metadata": {},
   "source": [
    "In this case, as we expect the lens1 height is differet to the image height. To correct this we may change the image height or the lens height. Let's change the lens height."
   ]
  },
  {
   "cell_type": "code",
   "execution_count": 17,
   "metadata": {},
   "outputs": [],
   "source": [
    "lens1.height = 15"
   ]
  },
  {
   "cell_type": "markdown",
   "metadata": {},
   "source": [
    "Now, let's try again the process method to check if the have the same dimensions."
   ]
  },
  {
   "cell_type": "code",
   "execution_count": 18,
   "metadata": {},
   "outputs": [
    {
     "data": {
      "text/plain": [
       "array([[9, 4, 0, 1, 9, 0, 1, 8, 9, 0],\n",
       "       [8, 6, 4, 3, 0, 4, 6, 8, 1, 8],\n",
       "       [4, 1, 3, 6, 5, 3, 9, 6, 9, 1],\n",
       "       [9, 4, 2, 6, 7, 8, 8, 9, 2, 0],\n",
       "       [6, 7, 8, 1, 7, 1, 4, 0, 8, 5],\n",
       "       [4, 7, 8, 8, 2, 6, 2, 8, 8, 6],\n",
       "       [6, 5, 6, 0, 0, 6, 9, 1, 8, 9],\n",
       "       [1, 2, 8, 9, 9, 5, 0, 2, 7, 3],\n",
       "       [0, 4, 2, 0, 3, 3, 1, 2, 5, 9],\n",
       "       [0, 1, 0, 1, 9, 0, 9, 2, 1, 1],\n",
       "       [0, 0, 5, 9, 0, 4, 6, 6, 0, 2],\n",
       "       [3, 3, 2, 6, 0, 5, 1, 3, 6, 5],\n",
       "       [5, 1, 8, 0, 5, 9, 8, 5, 7, 8],\n",
       "       [5, 8, 9, 9, 1, 5, 9, 1, 4, 7],\n",
       "       [7, 7, 9, 7, 6, 0, 3, 9, 4, 4]])"
      ]
     },
     "execution_count": 18,
     "metadata": {},
     "output_type": "execute_result"
    }
   ],
   "source": [
    "lens1.process(image)"
   ]
  },
  {
   "cell_type": "markdown",
   "metadata": {},
   "source": [
    "As the dimensions are correct process returns us the original image"
   ]
  },
  {
   "cell_type": "markdown",
   "metadata": {},
   "source": [
    "If you want to know the lenses dimensions, we can just call them"
   ]
  },
  {
   "cell_type": "code",
   "execution_count": 23,
   "metadata": {},
   "outputs": [
    {
     "name": "stdout",
     "output_type": "stream",
     "text": [
      "The lenses height is 15 and the width is 10.\n"
     ]
    }
   ],
   "source": [
    "print('The lenses height is {} and the width is {}.'.format(lens1.height,lens1.width))"
   ]
  },
  {
   "cell_type": "markdown",
   "metadata": {},
   "source": [
    "We can do the same for the sensor to know the gain of the sensor as it was selected randomly"
   ]
  },
  {
   "cell_type": "code",
   "execution_count": 24,
   "metadata": {},
   "outputs": [
    {
     "name": "stdout",
     "output_type": "stream",
     "text": [
      "The sensor gain is 6.\n"
     ]
    }
   ],
   "source": [
    "print('The sensor gain is {}.'.format(sensor1.gain))"
   ]
  },
  {
   "cell_type": "markdown",
   "metadata": {},
   "source": [
    "As well we can change gain value"
   ]
  },
  {
   "cell_type": "code",
   "execution_count": 26,
   "metadata": {},
   "outputs": [
    {
     "data": {
      "text/plain": [
       "3"
      ]
     },
     "execution_count": 26,
     "metadata": {},
     "output_type": "execute_result"
    }
   ],
   "source": [
    "sensor1.gain = 3\n",
    "sensor1.gain"
   ]
  },
  {
   "cell_type": "markdown",
   "metadata": {},
   "source": [
    "The process method in the sensor class the image is multiplied by the gain. "
   ]
  },
  {
   "cell_type": "code",
   "execution_count": 27,
   "metadata": {},
   "outputs": [
    {
     "data": {
      "text/plain": [
       "array([[27, 12,  0,  3, 27,  0,  3, 24, 27,  0],\n",
       "       [24, 18, 12,  9,  0, 12, 18, 24,  3, 24],\n",
       "       [12,  3,  9, 18, 15,  9, 27, 18, 27,  3],\n",
       "       [27, 12,  6, 18, 21, 24, 24, 27,  6,  0],\n",
       "       [18, 21, 24,  3, 21,  3, 12,  0, 24, 15],\n",
       "       [12, 21, 24, 24,  6, 18,  6, 24, 24, 18],\n",
       "       [18, 15, 18,  0,  0, 18, 27,  3, 24, 27],\n",
       "       [ 3,  6, 24, 27, 27, 15,  0,  6, 21,  9],\n",
       "       [ 0, 12,  6,  0,  9,  9,  3,  6, 15, 27],\n",
       "       [ 0,  3,  0,  3, 27,  0, 27,  6,  3,  3],\n",
       "       [ 0,  0, 15, 27,  0, 12, 18, 18,  0,  6],\n",
       "       [ 9,  9,  6, 18,  0, 15,  3,  9, 18, 15],\n",
       "       [15,  3, 24,  0, 15, 27, 24, 15, 21, 24],\n",
       "       [15, 24, 27, 27,  3, 15, 27,  3, 12, 21],\n",
       "       [21, 21, 27, 21, 18,  0,  9, 27, 12, 12]])"
      ]
     },
     "execution_count": 27,
     "metadata": {},
     "output_type": "execute_result"
    }
   ],
   "source": [
    "sensor1.process(image)"
   ]
  },
  {
   "cell_type": "code",
   "execution_count": null,
   "metadata": {},
   "outputs": [],
   "source": []
  },
  {
   "cell_type": "code",
   "execution_count": null,
   "metadata": {},
   "outputs": [],
   "source": []
  },
  {
   "cell_type": "code",
   "execution_count": null,
   "metadata": {},
   "outputs": [],
   "source": []
  },
  {
   "cell_type": "code",
   "execution_count": null,
   "metadata": {},
   "outputs": [],
   "source": []
  },
  {
   "cell_type": "markdown",
   "metadata": {},
   "source": []
  },
  {
   "cell_type": "code",
   "execution_count": null,
   "metadata": {},
   "outputs": [],
   "source": []
  },
  {
   "cell_type": "code",
   "execution_count": null,
   "metadata": {},
   "outputs": [],
   "source": []
  }
 ],
 "metadata": {
  "kernelspec": {
   "display_name": "Python 3",
   "language": "python",
   "name": "python3"
  },
  "language_info": {
   "codemirror_mode": {
    "name": "ipython",
    "version": 3
   },
   "file_extension": ".py",
   "mimetype": "text/x-python",
   "name": "python",
   "nbconvert_exporter": "python",
   "pygments_lexer": "ipython3",
   "version": "3.8.0"
  }
 },
 "nbformat": 4,
 "nbformat_minor": 4
}
